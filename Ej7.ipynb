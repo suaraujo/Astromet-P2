{
 "cells": [
  {
   "cell_type": "code",
   "execution_count": 1,
   "metadata": {},
   "outputs": [],
   "source": [
    "import numpy as np\n",
    "import matplotlib.pyplot as plt\n",
    "import scipy.stats as st\n"
   ]
  },
  {
   "cell_type": "code",
   "execution_count": 25,
   "metadata": {},
   "outputs": [],
   "source": [
    "mv=np.genfromtxt('cumulos_globulares.dat',skip_header=1,usecols=6,unpack='True')"
   ]
  },
  {
   "cell_type": "code",
   "execution_count": 26,
   "metadata": {},
   "outputs": [],
   "source": [
    "p=np.isnan(mv)\n",
    "u=mv[~p]\n",
    "\n",
    "\n"
   ]
  },
  {
   "cell_type": "code",
   "execution_count": 34,
   "metadata": {},
   "outputs": [
    {
     "name": "stdout",
     "output_type": "stream",
     "text": [
      "Ingrese el numero de reciclados: 2000\n",
      "Ingrese el alpha del intervalo de confianza: 0.5\n"
     ]
    }
   ],
   "source": [
    "N=input('Ingrese el numero de reciclados: ')\n",
    "alp=float(input('Ingrese el alpha del intervalo de confianza: '))"
   ]
  },
  {
   "cell_type": "code",
   "execution_count": 35,
   "metadata": {},
   "outputs": [],
   "source": [
    "med=[]\n"
   ]
  },
  {
   "cell_type": "code",
   "execution_count": 36,
   "metadata": {},
   "outputs": [],
   "source": [
    "for i in range (N):\n",
    "    x=np.random.choice(u,replace='True',size=148)\n",
    "    med.append(np.mean(x))"
   ]
  },
  {
   "cell_type": "code",
   "execution_count": 37,
   "metadata": {},
   "outputs": [],
   "source": [
    "promed=np.mean(med)"
   ]
  },
  {
   "cell_type": "code",
   "execution_count": 38,
   "metadata": {},
   "outputs": [],
   "source": [
    "dst=np.std(med)\n"
   ]
  },
  {
   "cell_type": "code",
   "execution_count": 39,
   "metadata": {},
   "outputs": [],
   "source": [
    "alp1=st.norm.ppf(alp/2.,loc=promed,scale=dst)\n",
    "alp2=st.norm.ppf(1.-alp/2.,loc=promed,scale=dst)"
   ]
  },
  {
   "cell_type": "code",
   "execution_count": 40,
   "metadata": {},
   "outputs": [
    {
     "data": {
      "image/png": "[encoded data removed]",
      "text/plain": [
       "<Figure size 432x288 with 1 Axes>"
      ]
     },
     "metadata": {
      "needs_background": "light"
     },
     "output_type": "display_data"
    }
   ],
   "source": [
    "h=plt.hist(med,bins=int(np.sqrt(len(med))),density=1)\n",
    "plt.hist(med,bins=int(np.sqrt(len(med))),density=1,color='green')\n",
    "plt.vlines(alp1,0,max(h[0]),linestyle='dashed',color='red')\n",
    "plt.vlines(alp2,0,max(h[0]),linestyle='dashed',color='red')\n",
    "plt.vlines(promed,0,max(h[0]),linestyle='solid',color='yellow',lw=2)\n",
    "plt.xlabel('Media')\n",
    "plt.title('Histograma con Bootstrap (alpha= '+str(alp)+' y numero de remuestreos= '+str(N)+')')\n",
    "plt.ion()\n",
    "plt.show()\n"
   ]
  },
  {
   "cell_type": "code",
   "execution_count": null,
   "metadata": {},
   "outputs": [],
   "source": []
  }
 ],
 "metadata": {
  "kernelspec": {
   "display_name": "Python 2",
   "language": "python",
   "name": "python2"
  },
  "language_info": {
   "codemirror_mode": {
    "name": "ipython",
    "version": 2
   },
   "file_extension": ".py",
   "mimetype": "text/x-python",
   "name": "python",
   "nbconvert_exporter": "python",
   "pygments_lexer": "ipython2",
   "version": "2.7.15"
  }
 },
 "nbformat": 4,
 "nbformat_minor": 2
}
