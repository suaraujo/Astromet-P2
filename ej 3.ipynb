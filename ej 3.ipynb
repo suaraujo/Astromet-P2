{
 "cells": [
  {
   "cell_type": "code",
   "execution_count": 1,
   "metadata": {},
   "outputs": [],
   "source": [
    "import numpy as np\n",
    "\n",
    "import matplotlib.pyplot as plt\n"
   ]
  },
  {
   "cell_type": "code",
   "execution_count": 8,
   "metadata": {},
   "outputs": [
    {
     "name": "stdout",
     "output_type": "stream",
     "text": [
      "incerte el parametro sigma:0.5\n",
      "cantidad de valores a probar:100000\n"
     ]
    }
   ],
   "source": [
    "o=input('incerte el parametro sigma:')\n",
    "N=input('cantidad de valores a probar:')\n",
    "x=np.zeros(N,dtype=float)\n",
    "espe=0\n",
    "espe=float(espe)\n",
    "o=float(o)\n"
   ]
  },
  {
   "cell_type": "code",
   "execution_count": 9,
   "metadata": {},
   "outputs": [
    {
     "name": "stdout",
     "output_type": "stream",
     "text": [
      "[0.85389233 0.58555369 0.68022653 ... 0.85556575 0.59190455 0.34157295]\n"
     ]
    }
   ],
   "source": [
    "    \n",
    "f=np.random.rand(N)\n",
    "\n",
    "print(f)"
   ]
  },
  {
   "cell_type": "code",
   "execution_count": 10,
   "metadata": {},
   "outputs": [],
   "source": [
    "for i in range (N):\n",
    "    espe=espe+f[i]"
   ]
  },
  {
   "cell_type": "code",
   "execution_count": 11,
   "metadata": {},
   "outputs": [
    {
     "name": "stdout",
     "output_type": "stream",
     "text": [
      "[ 0.32705021 -0.06345563  0.06557661 ...  0.33003581 -0.0547656\n",
      " -0.4362547 ]\n"
     ]
    }
   ],
   "source": [
    "x=o*np.log(np.log(1/(1-f)))\n",
    "print x"
   ]
  },
  {
   "cell_type": "code",
   "execution_count": 12,
   "metadata": {},
   "outputs": [
    {
     "name": "stdout",
     "output_type": "stream",
     "text": [
      "el valor esperado de f=\n",
      "0.5004132056302646\n"
     ]
    }
   ],
   "source": [
    "espe=espe/N\n",
    "print('el valor esperado de f=') \n",
    "print espe\n"
   ]
  },
  {
   "cell_type": "code",
   "execution_count": 23,
   "metadata": {},
   "outputs": [
    {
     "data": {
      "text/plain": [
       "<function matplotlib.pyplot.show>"
      ]
     },
     "execution_count": 23,
     "metadata": {},
     "output_type": "execute_result"
    },
    {
     "data": {
      "image/png": "[encoded data removed]",
      "text/plain": [
       "<Figure size 432x288 with 1 Axes>"
      ]
     },
     "metadata": {
      "needs_background": "light"
     },
     "output_type": "display_data"
    }
   ],
   "source": [
    "plt.hist(x,bins=int(np.sqrt(N)),density='true',color='c')\n",
    "plt.ylabel('Frecuencia')\n",
    "plt.xlabel('Variable aleatoria')\n",
    "plt.title('Histograma para sigma=' + str(o) + ' y N=' + str(N))\n",
    "plt.show"
   ]
  },
  {
   "cell_type": "code",
   "execution_count": null,
   "metadata": {},
   "outputs": [],
   "source": []
  }
 ],
 "metadata": {
  "kernelspec": {
   "display_name": "Python 2",
   "language": "python",
   "name": "python2"
  },
  "language_info": {
   "codemirror_mode": {
    "name": "ipython",
    "version": 2
   },
   "file_extension": ".py",
   "mimetype": "text/x-python",
   "name": "python",
   "nbconvert_exporter": "python",
   "pygments_lexer": "ipython2",
   "version": "2.7.15"
  }
 },
 "nbformat": 4,
 "nbformat_minor": 2
}
